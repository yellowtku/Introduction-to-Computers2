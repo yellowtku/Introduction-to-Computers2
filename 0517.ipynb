{
  "nbformat": 4,
  "nbformat_minor": 0,
  "metadata": {
    "colab": {
      "provenance": [],
      "authorship_tag": "ABX9TyOw3QnIEL785KmnwRWlbkhr",
      "include_colab_link": true
    },
    "kernelspec": {
      "name": "python3",
      "display_name": "Python 3"
    },
    "language_info": {
      "name": "python"
    }
  },
  "cells": [
    {
      "cell_type": "markdown",
      "metadata": {
        "id": "view-in-github",
        "colab_type": "text"
      },
      "source": [
        "<a href=\"https://colab.research.google.com/github/yellowtku/Introduction-to-Computers2/blob/main/0517.ipynb\" target=\"_parent\"><img src=\"https://colab.research.google.com/assets/colab-badge.svg\" alt=\"Open In Colab\"/></a>"
      ]
    },
    {
      "cell_type": "code",
      "execution_count": 1,
      "metadata": {
        "colab": {
          "base_uri": "https://localhost:8080/"
        },
        "id": "TrlvgAVIjz3n",
        "outputId": "4960a82e-8d37-4b93-ef3c-be422087c932"
      },
      "outputs": [
        {
          "output_type": "stream",
          "name": "stdout",
          "text": [
            "score:39\n",
            "Grade is: F\n"
          ]
        }
      ],
      "source": [
        "score=int(input('score:'))\n",
        "if score >= 90:\n",
        "  print('Grade is: A')\n",
        "elif score >= 80:\n",
        "  print('Grade is: B')\n",
        "elif score >= 70:\n",
        "  print('Grade is: C')\n",
        "elif score >= 60:\n",
        "  print('Grade is: D')\n",
        "else:\n",
        "  print('Grade is: F')"
      ]
    },
    {
      "cell_type": "code",
      "source": [
        "rain=str(input('今天會下雨嗎?'))\n",
        "if(rain=='Y' or rain=='y'):\n",
        " print('要帶傘')\n",
        "elif(rain=='N' or rain=='n'):\n",
        " print('不用帶傘')"
      ],
      "metadata": {
        "colab": {
          "base_uri": "https://localhost:8080/"
        },
        "id": "lVBzAaznns37",
        "outputId": "c7aa585a-f05a-48db-a4c5-3c216e544718"
      },
      "execution_count": 2,
      "outputs": [
        {
          "output_type": "stream",
          "name": "stdout",
          "text": [
            "今天會下雨嗎?y\n",
            "要帶傘\n"
          ]
        }
      ]
    },
    {
      "cell_type": "code",
      "source": [
        "temperature=float(input('temperature:'))\n",
        "if temperature >=37.5:\n",
        "  print('體溫過高!')\n",
        "elif temperature >=37:\n",
        "  print('體溫略高!')\n",
        "elif temperature >=36.9:\n",
        "  print('體溫正常!')\n",
        "else:\n",
        "  print('體溫異常，請重新量測!')\n"
      ],
      "metadata": {
        "colab": {
          "base_uri": "https://localhost:8080/"
        },
        "id": "tZsYVuwnovkG",
        "outputId": "eec3587b-8a52-4ec8-c825-81211314f2fa"
      },
      "execution_count": 3,
      "outputs": [
        {
          "output_type": "stream",
          "name": "stdout",
          "text": [
            "temperature:39\n",
            "體溫過高!\n"
          ]
        }
      ]
    },
    {
      "cell_type": "code",
      "source": [
        "score=int(input('請輸入成績:'))\n",
        "if score >= 90:\n",
        "  print('A')\n",
        "elif score >= 80:\n",
        "  print('B')\n",
        "elif score >= 70:\n",
        "  print('C')\n",
        "elif score >= 60:\n",
        "  print('D') \n",
        "else:\n",
        "  print('E')\n",
        "  "
      ],
      "metadata": {
        "colab": {
          "base_uri": "https://localhost:8080/"
        },
        "id": "-qdSJOkT6zZq",
        "outputId": "7535218b-a1f3-4b92-f164-dd3b8c3f8036"
      },
      "execution_count": 4,
      "outputs": [
        {
          "output_type": "stream",
          "name": "stdout",
          "text": [
            "請輸入成績:69\n",
            "D\n"
          ]
        }
      ]
    },
    {
      "cell_type": "code",
      "source": [
        " season=int(input('請輸入月份:'))\n",
        "if season == 3 or 4 or 5:\n",
        "  print(season,'月為春天!')\n",
        "elif season == 6 or 7 or 8:\n",
        "  print(season,'月為夏天!')\n",
        "elif season == 9 or 10 or 11:\n",
        "  print(season,'月為秋天!')\n",
        "elif season == 12 or 1 or 2:\n",
        "  print(season,'月為冬天!')\n",
        "\n",
        "     "
      ],
      "metadata": {
        "colab": {
          "base_uri": "https://localhost:8080/"
        },
        "id": "cVtk01oz9kRQ",
        "outputId": "3795503d-55f4-4451-f587-76e16efe868b"
      },
      "execution_count": 11,
      "outputs": [
        {
          "output_type": "stream",
          "name": "stdout",
          "text": [
            "請輸入月份:11\n",
            "11 月為春天!\n"
          ]
        }
      ]
    },
    {
      "cell_type": "code",
      "source": [
        "b=float\n",
        "a=int(input('請輸入今年收入淨額:'))\n",
        "if a>=2000000:\n",
        "  b=a*0.3\n",
        "  print('賦稅金額:',b)\n",
        "elif a>=1000000:\n",
        "  b=a*0.21\n",
        "  print('賦稅金額:',b)  \n",
        "elif a>=600000:\n",
        "  b=a*0.13\n",
        "  print('賦稅金額:',b)  \n",
        "elif a>=300000:\n",
        "  b=a*0.06\n",
        "  print('賦稅金額:',b)\n",
        "else:\n",
        "  print('賦稅淨額0元')     \n",
        "     \n"
      ],
      "metadata": {
        "colab": {
          "base_uri": "https://localhost:8080/"
        },
        "id": "M5YvzAvGAC2Z",
        "outputId": "3fe94d1f-87c9-4b01-dc49-d9f06b55d45a"
      },
      "execution_count": 12,
      "outputs": [
        {
          "output_type": "stream",
          "name": "stdout",
          "text": [
            "請輸入今年收入淨額:2500000\n",
            "賦稅金額: 750000.0\n"
          ]
        }
      ]
    }
  ]
}