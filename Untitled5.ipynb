{
  "nbformat": 4,
  "nbformat_minor": 0,
  "metadata": {
    "colab": {
      "provenance": [],
      "authorship_tag": "ABX9TyNNRp8pPdkF3vuSJ4ltSEtR",
      "include_colab_link": true
    },
    "kernelspec": {
      "name": "python3",
      "display_name": "Python 3"
    },
    "language_info": {
      "name": "python"
    }
  },
  "cells": [
    {
      "cell_type": "markdown",
      "metadata": {
        "id": "view-in-github",
        "colab_type": "text"
      },
      "source": [
        "<a href=\"https://colab.research.google.com/github/yellowtku/Introduction-to-Computers2/blob/main/Untitled5.ipynb\" target=\"_parent\"><img src=\"https://colab.research.google.com/assets/colab-badge.svg\" alt=\"Open In Colab\"/></a>"
      ]
    },
    {
      "cell_type": "code",
      "execution_count": 2,
      "metadata": {
        "colab": {
          "base_uri": "https://localhost:8080/"
        },
        "id": "SRBv5wxlRmjW",
        "outputId": "40ea3ff6-cc65-401d-bd02-5b45b8b9aa1b"
      },
      "outputs": [
        {
          "output_type": "stream",
          "name": "stdout",
          "text": [
            "peiyu peiyu\n",
            "peiyu peiyu\n"
          ]
        }
      ],
      "source": [
        "a = input()\n",
        "print(a)"
      ]
    },
    {
      "cell_type": "code",
      "source": [],
      "metadata": {
        "id": "JcsQ3Y9-Tg9J"
      },
      "execution_count": null,
      "outputs": []
    },
    {
      "cell_type": "code",
      "source": [
        "b=input()\n",
        "print(len(b))\n",
        "b = input()\n",
        "print(len(b))"
      ],
      "metadata": {
        "colab": {
          "base_uri": "https://localhost:8080/"
        },
        "id": "2Olpmva_ThJ1",
        "outputId": "cf194c59-aa5b-49f9-fc3e-aace3a860cf1"
      },
      "execution_count": 4,
      "outputs": [
        {
          "output_type": "stream",
          "name": "stdout",
          "text": [
            "hello panda hi hi\n",
            "17\n",
            "good to drink?\n",
            "14\n"
          ]
        }
      ]
    },
    {
      "cell_type": "code",
      "source": [],
      "metadata": {
        "id": "Qk5LbzsQUm55"
      },
      "execution_count": null,
      "outputs": []
    },
    {
      "cell_type": "code",
      "source": [
        "h,w = input().split()\n",
        "int_h = int(h)\n",
        "int_w = int(w)\n",
        "h_a = int_h/100\n",
        "bmi = int_w/ h_a**2\n",
        "print(\"%.2f\"% bmi)"
      ],
      "metadata": {
        "colab": {
          "base_uri": "https://localhost:8080/"
        },
        "id": "WEfL-IcVUnKc",
        "outputId": "2b2d76b3-4d3d-4175-98b9-0cb5338ad17b"
      },
      "execution_count": 6,
      "outputs": [
        {
          "output_type": "stream",
          "name": "stdout",
          "text": [
            "180  70\n",
            "21.60\n"
          ]
        }
      ]
    }
  ]
}